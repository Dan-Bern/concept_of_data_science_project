{
 "cells": [
  {
   "cell_type": "code",
   "execution_count": null,
   "id": "3c9c6f68",
   "metadata": {},
   "outputs": [
    {
     "ename": "",
     "evalue": "",
     "output_type": "error",
     "traceback": [
      "\u001b[1;31mThe kernel failed to start as the Python Environment 'tst (Python -1.-1.-1)' is no longer available. Consider selecting another kernel or refreshing the list of Python Environments."
     ]
    }
   ],
   "source": [
    "import time\n",
    "import random\n",
    "import matplotlib.pyplot as plt\n",
    "\n",
    "from tst import TernarySearchTree\n",
    "from btree import BTreeWrapper"
   ]
  },
  {
   "cell_type": "code",
   "execution_count": null,
   "id": "18e128ca",
   "metadata": {},
   "outputs": [],
   "source": [
    "\n",
    "def load_words(filepath: str, limit: int = None) -> list[str]:\n",
    "    \"\"\"Load words from file and preprocess\"\"\"\n",
    "    with open(filepath, \"r\") as file:\n",
    "        words = [line.strip().lower() for line in file if line.strip().isalpha()]\n",
    "    if limit:\n",
    "        words = words[:limit]\n",
    "    return words"
   ]
  },
  {
   "cell_type": "code",
   "execution_count": null,
   "id": "407aee50",
   "metadata": {},
   "outputs": [],
   "source": [
    "def benchmark_tree(TreeClass, words: list[str], step: int = 1000):\n",
    "    insert_times = []\n",
    "    search_times = []\n",
    "    sizes = list(range(step, len(words) + 1, step))\n",
    "\n",
    "    for size in sizes:\n",
    "        sample = words[:size]\n",
    "        tree = TreeClass()\n",
    "\n",
    "        # Measure insert time\n",
    "        start = time.perf_counter()\n",
    "        for word in sample:\n",
    "            tree.insert(word)\n",
    "        end = time.perf_counter()\n",
    "        insert_times.append(end - start)\n",
    "\n",
    "        # Measure search time on a random 10% sample\n",
    "        search_sample = random.sample(sample, k=max(1, size // 10))\n",
    "        start = time.perf_counter()\n",
    "        for word in search_sample:\n",
    "            tree.search(word)\n",
    "        end = time.perf_counter()\n",
    "        search_times.append(end - start)\n",
    "\n",
    "        print(\n",
    "            f\"{TreeClass.__name__}: {size} words - Insert: {insert_times[-1]:.4f}s, Search: {search_times[-1]:.4f}s\"\n",
    "        )\n",
    "\n",
    "    return sizes, insert_times, search_times"
   ]
  },
  {
   "cell_type": "code",
   "execution_count": null,
   "id": "d22b6bf9",
   "metadata": {},
   "outputs": [],
   "source": [
    "# Load words dataset \n",
    "words = load_words(\"data/corncob_lowercase.txt\", limit=10000)\n",
    "\n",
    "\n",
    "\n",
    "# Benchmark TST\n",
    "print(\"Benchmarking Ternary Search Tree (TST)...\")\n",
    "sizes_tst, insert_tst, search_tst = benchmark_tree(TernarySearchTree, words)\n",
    "\n",
    "# Benchmark B-Tree\n",
    "print(\"\\nBenchmarking B-Tree...\")\n",
    "sizes_bt, insert_bt, search_bt = benchmark_tree(BTreeWrapper, words)"
   ]
  },
  {
   "cell_type": "code",
   "execution_count": null,
   "id": "eec37b78",
   "metadata": {},
   "outputs": [],
   "source": [
    "plt.figure(figsize=(12, 7))\n",
    "\n",
    "plt.plot(sizes_tst, insert_tst, marker=\"o\", label=\"TST Insert\")\n",
    "plt.plot(sizes_tst, search_tst, marker=\"x\", label=\"TST Search\")\n",
    "\n",
    "plt.plot(sizes_bt, insert_bt, marker=\"s\", label=\"B-Tree Insert\")\n",
    "plt.plot(sizes_bt, search_bt, marker=\"^\", label=\"B-Tree Search\")\n",
    "\n",
    "plt.title(\"Performance Comparison: Ternary Search Tree vs B-Tree\")\n",
    "plt.xlabel(\"Number of Words\")\n",
    "plt.ylabel(\"Time (seconds)\")\n",
    "plt.legend()\n",
    "plt.grid(True)\n",
    "plt.tight_layout()\n",
    "plt.show()"
   ]
  }
 ],
 "metadata": {
  "kernelspec": {
   "display_name": "tst",
   "language": "python",
   "name": "python3"
  },
  "language_info": {
   "codemirror_mode": {
    "name": "ipython",
    "version": 3
   },
   "file_extension": ".py",
   "mimetype": "text/x-python",
   "name": "python",
   "nbconvert_exporter": "python",
   "pygments_lexer": "ipython3",
   "version": "-1.-1.-1"
  }
 },
 "nbformat": 4,
 "nbformat_minor": 5
}
